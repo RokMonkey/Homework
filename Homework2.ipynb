{
 "cells": [
  {
   "cell_type": "code",
   "execution_count": 2,
   "id": "fa8426bf",
   "metadata": {},
   "outputs": [],
   "source": [
    "import numpy as np"
   ]
  },
  {
   "cell_type": "markdown",
   "id": "7a148632",
   "metadata": {},
   "source": [
    "1. Создайте массив 10х10, заполненный в центре нулями, а по границе единицами."
   ]
  },
  {
   "cell_type": "code",
   "execution_count": 4,
   "id": "1461fc04",
   "metadata": {},
   "outputs": [],
   "source": [
    "x = np.ones((10,10))\n",
    "x[1:-1,1:-1] = 0"
   ]
  },
  {
   "cell_type": "markdown",
   "id": "03bfa3d2",
   "metadata": {},
   "source": [
    "2. Создайте массив 8х8, заполненный 0 и 1 в шахматном порядке."
   ]
  },
  {
   "cell_type": "code",
   "execution_count": 5,
   "id": "3b991c2f",
   "metadata": {},
   "outputs": [],
   "source": [
    "x = np.zeros((8,8))\n",
    "x[1::2,::2] = 1\n",
    "x[::2,1::2] = 1"
   ]
  },
  {
   "cell_type": "markdown",
   "id": "d3d43c91",
   "metadata": {},
   "source": [
    "либо"
   ]
  },
  {
   "cell_type": "code",
   "execution_count": 6,
   "id": "8ac4e266",
   "metadata": {},
   "outputs": [],
   "source": [
    "x = np.zeros((8,8), dtype=int)\n",
    "x[1::2,::2] = 1\n",
    "x[::2,1::2] = 1"
   ]
  },
  {
   "cell_type": "markdown",
   "id": "8bb0362f",
   "metadata": {},
   "source": [
    "3. Создайте матрицу 5x5 со значениями 1,2,3,4 под главной диагональю. Остальные значения - нули"
   ]
  },
  {
   "cell_type": "code",
   "execution_count": 8,
   "id": "3245a448",
   "metadata": {},
   "outputs": [],
   "source": [
    "x = np.diag([1, 2, 3, 4, 5], k=-1)"
   ]
  },
  {
   "cell_type": "markdown",
   "id": "ec7384a1",
   "metadata": {},
   "source": [
    "4. Создайте случайный массив 5х5 и нормируйте его так, чтобы среднее по каждой строке было в точности ноль."
   ]
  },
  {
   "cell_type": "code",
   "execution_count": 9,
   "id": "163d9521",
   "metadata": {},
   "outputs": [],
   "source": [
    "x= np.random.random((5,5))\n",
    "for i in range(0,5):\n",
    "    x[i]=x[i]-sum(x[i])/5"
   ]
  },
  {
   "cell_type": "markdown",
   "id": "a7e7c165",
   "metadata": {},
   "source": [
    "5. Создайте двумерный массив 10x3, заполненный случайными числами от 0 до 1. В каждой строке выберите значение, наиболее близкое к 0.5."
   ]
  },
  {
   "cell_type": "code",
   "execution_count": 17,
   "id": "8f8cdf6e",
   "metadata": {},
   "outputs": [
    {
     "name": "stdout",
     "output_type": "stream",
     "text": [
      "[[0.01613051 0.23401356 0.41306578]\n",
      " [0.73240892 0.4456062  0.79112099]\n",
      " [0.58494109 0.23836321 0.13024867]\n",
      " [0.44577492 0.53394599 0.16470184]\n",
      " [0.55193202 0.0860752  0.59559889]\n",
      " [0.99551601 0.84118938 0.36718911]\n",
      " [0.60815679 0.97564143 0.14128997]\n",
      " [0.4983617  0.60248304 0.12873777]\n",
      " [0.27317317 0.07019396 0.90933781]\n",
      " [0.01718676 0.55189418 0.16195326]]\n",
      "[0.41306578]\n",
      "[0.4456062]\n",
      "[0.58494109]\n",
      "[0.53394599]\n",
      "[0.55193202]\n",
      "[0.36718911]\n",
      "[0.60815679]\n",
      "[0.4983617]\n",
      "[0.27317317]\n",
      "[0.55189418]\n"
     ]
    }
   ],
   "source": [
    "x= np.random.random((10,3))\n",
    "print(x)\n",
    "for i in range(0,10):\n",
    "    print(x[i][abs(x[i]-0.5)==min(abs(x[i]-0.5))])"
   ]
  },
  {
   "cell_type": "markdown",
   "id": "bcc41f1e",
   "metadata": {},
   "source": [
    "6. Создайте двумерный массив 6x6, заполненный случайными значениями. Сумму по каждой строке поделите на максимальный элемент из столбца с тем же индексом."
   ]
  },
  {
   "cell_type": "code",
   "execution_count": 18,
   "id": "1d53cb6e",
   "metadata": {},
   "outputs": [
    {
     "name": "stdout",
     "output_type": "stream",
     "text": [
      "[[0.16172808 0.0264145  0.32323552 0.10764886 0.08900682 0.53669256]\n",
      " [0.39377632 0.5347253  0.29682583 0.86509936 0.80207456 0.83862425]\n",
      " [0.81612519 0.48945274 0.0694763  0.07296862 0.75291225 0.60031984]\n",
      " [0.99964575 0.07722105 0.84232057 0.48759343 0.13504364 0.06853878]\n",
      " [0.70882321 0.96454107 0.63061398 0.71672655 0.60635966 0.8790501 ]\n",
      " [0.35713545 0.63644222 0.23646024 0.59681423 0.93462219 0.03766773]]\n",
      "1.2451674496388263\n",
      "3.86829108499333\n",
      "3.325639942376495\n",
      "3.017414342768312\n",
      "4.821322021198686\n",
      "3.1842804803791043\n"
     ]
    }
   ],
   "source": [
    "x= np.random.random((6,6))\n",
    "print(x)\n",
    "for i in range(0,6):\n",
    "    print(sum(x[i])/max(x[:,i]))"
   ]
  },
  {
   "cell_type": "markdown",
   "id": "14a5f01e",
   "metadata": {},
   "source": [
    "7. На примере массива x = np.array([6, 2, 0, 3, 0, 0, 5, 7, 0]) найдите максимальный элемент в массиве среди элементов, перед которыми стоит ноль."
   ]
  },
  {
   "cell_type": "code",
   "execution_count": 23,
   "id": "072be869",
   "metadata": {},
   "outputs": [
    {
     "name": "stdout",
     "output_type": "stream",
     "text": [
      "5\n"
     ]
    }
   ],
   "source": [
    "x = np.array([6, 2, 0, 3, 0, 0, 5, 7, 0])\n",
    "print(max(x[1:][(x==0)[:-1]]))"
   ]
  },
  {
   "cell_type": "markdown",
   "id": "4ac275ae",
   "metadata": {},
   "source": [
    "8. Пусть заданы два массива x = np.ones(10) и i = np.array([0, 1, 2, 3, 5, 5, 5, 8]). Прибавьте единицу к тем элементам массива x, индексы которых указаны в массиве i. В случае, если некоторый индекс встретился в массиве i несколько раз, прибавьте к соответствующему элементу массива x число вхождений данного индекса в массив i."
   ]
  },
  {
   "cell_type": "code",
   "execution_count": 28,
   "id": "eb1512f3",
   "metadata": {},
   "outputs": [],
   "source": [
    "x = np.ones(10) \n",
    "i = np.array([0, 1, 2, 3, 5, 5, 5, 8])\n",
    "for j in i:\n",
    "    x[j]+=1"
   ]
  }
 ],
 "metadata": {
  "kernelspec": {
   "display_name": "Python 3 (ipykernel)",
   "language": "python",
   "name": "python3"
  },
  "language_info": {
   "codemirror_mode": {
    "name": "ipython",
    "version": 3
   },
   "file_extension": ".py",
   "mimetype": "text/x-python",
   "name": "python",
   "nbconvert_exporter": "python",
   "pygments_lexer": "ipython3",
   "version": "3.11.4"
  }
 },
 "nbformat": 4,
 "nbformat_minor": 5
}
