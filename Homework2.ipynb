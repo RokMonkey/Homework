{
 "cells": [
  {
   "cell_type": "code",
   "execution_count": 1,
   "id": "fa8426bf",
   "metadata": {},
   "outputs": [],
   "source": [
    "import numpy as np"
   ]
  },
  {
   "cell_type": "markdown",
   "id": "7a148632",
   "metadata": {},
   "source": [
    "1. Создайте массив 10х10, заполненный в центре нулями, а по границе единицами."
   ]
  },
  {
   "cell_type": "code",
   "execution_count": 2,
   "id": "1461fc04",
   "metadata": {},
   "outputs": [],
   "source": [
    "x = np.ones((10,10))\n",
    "x[1:-1,1:-1] = 0"
   ]
  },
  {
   "cell_type": "markdown",
   "id": "03bfa3d2",
   "metadata": {},
   "source": [
    "2. Создайте массив 8х8, заполненный 0 и 1 в шахматном порядке."
   ]
  },
  {
   "cell_type": "code",
   "execution_count": 3,
   "id": "3b991c2f",
   "metadata": {},
   "outputs": [],
   "source": [
    "x = np.zeros((8,8))\n",
    "x[1::2,::2] = 1\n",
    "x[::2,1::2] = 1"
   ]
  },
  {
   "cell_type": "markdown",
   "id": "d3d43c91",
   "metadata": {},
   "source": [
    "либо"
   ]
  },
  {
   "cell_type": "code",
   "execution_count": 4,
   "id": "8ac4e266",
   "metadata": {},
   "outputs": [],
   "source": [
    "x = np.zeros((8,8), dtype=int)\n",
    "x[1::2,::2] = 1\n",
    "x[::2,1::2] = 1"
   ]
  },
  {
   "cell_type": "markdown",
   "id": "8bb0362f",
   "metadata": {},
   "source": [
    "3. Создайте матрицу 5x5 со значениями 1,2,3,4 под главной диагональю. Остальные значения - нули"
   ]
  },
  {
   "cell_type": "code",
   "execution_count": 5,
   "id": "3245a448",
   "metadata": {},
   "outputs": [],
   "source": [
    "x = np.diag([1, 2, 3, 4, 5], k=-1)"
   ]
  },
  {
   "cell_type": "markdown",
   "id": "ec7384a1",
   "metadata": {},
   "source": [
    "4. Создайте случайный массив 5х5 и нормируйте его так, чтобы среднее по каждой строке было в точности ноль."
   ]
  },
  {
   "cell_type": "code",
   "execution_count": 6,
   "id": "163d9521",
   "metadata": {},
   "outputs": [
    {
     "data": {
      "text/plain": [
       "array([[-0.25329287, -0.16317268, -0.10242616,  0.38747347,  0.13141824],\n",
       "       [ 0.12455461,  0.35245339, -0.17355483, -0.38050392,  0.07705075],\n",
       "       [-0.13054465, -0.08985711,  0.10359346,  0.41103403, -0.29422573],\n",
       "       [-0.17859308,  0.09435409, -0.06685285, -0.00222787,  0.15331972],\n",
       "       [ 0.08268801,  0.41666691, -0.48087863,  0.12746588, -0.14594217]])"
      ]
     },
     "execution_count": 6,
     "metadata": {},
     "output_type": "execute_result"
    }
   ],
   "source": [
    "x= np.random.random((5,5))\n",
    "means=np.mean(x,axis=1)\n",
    "x-=means[:,np.newaxis]\n",
    "x"
   ]
  },
  {
   "cell_type": "markdown",
   "id": "a7e7c165",
   "metadata": {},
   "source": [
    "5. Создайте двумерный массив 10x3, заполненный случайными числами от 0 до 1. В каждой строке выберите значение, наиболее близкое к 0.5."
   ]
  },
  {
   "cell_type": "code",
   "execution_count": 7,
   "id": "8f8cdf6e",
   "metadata": {},
   "outputs": [
    {
     "name": "stdout",
     "output_type": "stream",
     "text": [
      "[[0.94350398 0.05079383 0.54331335]\n",
      " [0.56648292 0.45087153 0.95983633]\n",
      " [0.8596015  0.81937474 0.10883647]\n",
      " [0.43367952 0.56665968 0.39081543]\n",
      " [0.04900822 0.83492108 0.19203254]\n",
      " [0.11415273 0.19327573 0.53728377]\n",
      " [0.41630722 0.2381976  0.19067246]\n",
      " [0.0776169  0.44348448 0.69199899]\n",
      " [0.46399195 0.89729076 0.52825617]\n",
      " [0.79617439 0.93982998 0.01126856]]\n",
      "[2 1 1 0 2 2 0 1 2 0]\n",
      "[0.54331335 0.45087153 0.81937474 0.43367952 0.19203254 0.53728377\n",
      " 0.41630722 0.44348448 0.52825617 0.79617439]\n"
     ]
    }
   ],
   "source": [
    "x= np.random.random((10,3))\n",
    "print(x)\n",
    "x_=np.argmin(abs(x-0.5), axis=1)\n",
    "print(x_)\n",
    "print(x[np.arange(10),x_])"
   ]
  },
  {
   "cell_type": "markdown",
   "id": "bcc41f1e",
   "metadata": {},
   "source": [
    "6. Создайте двумерный массив 6x6, заполненный случайными значениями. Сумму по каждой строке поделите на максимальный элемент из столбца с тем же индексом."
   ]
  },
  {
   "cell_type": "code",
   "execution_count": 8,
   "id": "1d53cb6e",
   "metadata": {},
   "outputs": [
    {
     "name": "stdout",
     "output_type": "stream",
     "text": [
      "[[0.87450718 0.82329337 0.16509082 0.90466802 0.71815482 0.69639868]\n",
      " [0.87250499 0.91700893 0.27244444 0.76819611 0.77288528 0.39412334]\n",
      " [0.21741304 0.88882362 0.23295502 0.84922617 0.81041872 0.06118916]\n",
      " [0.86686338 0.08667131 0.52244535 0.4007476  0.76402945 0.53598301]\n",
      " [0.37291307 0.97834076 0.76146646 0.57375338 0.55276603 0.74037995]\n",
      " [0.68019741 0.77006548 0.90934703 0.34682898 0.62456482 0.60291117]]\n"
     ]
    },
    {
     "data": {
      "text/plain": [
       "array([4.78225109, 4.08565528, 3.36508027, 3.51149817, 4.9105722 ,\n",
       "       5.31337307])"
      ]
     },
     "execution_count": 8,
     "metadata": {},
     "output_type": "execute_result"
    }
   ],
   "source": [
    "x= np.random.random((6,6))\n",
    "print(x)\n",
    "sum=np.sum(x,axis=1)\n",
    "max=np.max(x,axis=0)\n",
    "a=sum/max\n",
    "a"
   ]
  },
  {
   "cell_type": "markdown",
   "id": "14a5f01e",
   "metadata": {},
   "source": [
    "7. На примере массива x = np.array([6, 2, 0, 3, 0, 0, 5, 7, 0]) найдите максимальный элемент в массиве среди элементов, перед которыми стоит ноль."
   ]
  },
  {
   "cell_type": "code",
   "execution_count": 17,
   "id": "072be869",
   "metadata": {},
   "outputs": [
    {
     "name": "stdout",
     "output_type": "stream",
     "text": [
      "5\n"
     ]
    }
   ],
   "source": [
    "x = np.array([6, 2, 0, 3, 0, 0, 5, 7, 0])\n",
    "a=np.where(x[:-1]==0)[0]\n",
    "print(np.max(x[a+1]))"
   ]
  },
  {
   "cell_type": "markdown",
   "id": "4ac275ae",
   "metadata": {},
   "source": [
    "8. Пусть заданы два массива x = np.ones(10) и i = np.array([0, 1, 2, 3, 5, 5, 5, 8]). Прибавьте единицу к тем элементам массива x, индексы которых указаны в массиве i. В случае, если некоторый индекс встретился в массиве i несколько раз, прибавьте к соответствующему элементу массива x число вхождений данного индекса в массив i."
   ]
  },
  {
   "cell_type": "code",
   "execution_count": 32,
   "id": "eb1512f3",
   "metadata": {},
   "outputs": [
    {
     "data": {
      "text/plain": [
       "array([1., 1., 1., 1., 0., 3., 0., 0., 1., 0.])"
      ]
     },
     "execution_count": 32,
     "metadata": {},
     "output_type": "execute_result"
    }
   ],
   "source": [
    "x = np.ones(10) \n",
    "i = np.array([0, 1, 2, 3, 5, 5, 5, 8])\n",
    "a, count=np.unique(i,return_counts=True)\n",
    "x[a]+=count\n",
    "x-1"
   ]
  }
 ],
 "metadata": {
  "kernelspec": {
   "display_name": "Python 3 (ipykernel)",
   "language": "python",
   "name": "python3"
  },
  "language_info": {
   "codemirror_mode": {
    "name": "ipython",
    "version": 3
   },
   "file_extension": ".py",
   "mimetype": "text/x-python",
   "name": "python",
   "nbconvert_exporter": "python",
   "pygments_lexer": "ipython3",
   "version": "3.11.4"
  }
 },
 "nbformat": 4,
 "nbformat_minor": 5
}
