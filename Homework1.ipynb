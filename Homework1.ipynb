{
 "cells": [
  {
   "cell_type": "code",
   "execution_count": 2,
   "id": "d2003d42",
   "metadata": {},
   "outputs": [],
   "source": [
    "class Test:\n",
    "    @staticmethod\n",
    "    def assert_equals(a, b, *args, **kwargs):\n",
    "        assert a == b\n",
    "        print('Passed')"
   ]
  },
  {
   "cell_type": "markdown",
   "id": "94d50807",
   "metadata": {},
   "source": [
    "problem https://edabit.com/challenge/RB6iWFrCd6rXWH3vi (5 point)"
   ]
  },
  {
   "cell_type": "code",
   "execution_count": 3,
   "id": "49780c95",
   "metadata": {},
   "outputs": [],
   "source": [
    "def longest_substring(digits):\n",
    "\tl_s_max=0\n",
    "\tl_s=1\n",
    "\tsub=str(digits[0])\n",
    "\tc=0\n",
    "\tsub_max=\"\"\n",
    "\twhile c+1<len(digits):\n",
    "\t\tif int(digits[c])%2+int(digits[c+1])%2==1:\n",
    "\t\t\tsub+=str(digits[c+1])\n",
    "\t\t\tl_s+=1\n",
    "\t\telif l_s_max<l_s:\n",
    "\t\t\tsub_max=sub\n",
    "\t\t\tsub=str(digits[c+1])\n",
    "\t\t\tl_s_max=l_s\n",
    "\t\t\tl_s=1\n",
    "\t\telse:\n",
    "\t\t\tsub=str(digits[c+1])\n",
    "\t\t\tl_s=1\n",
    "\t\tc+=1\n",
    "\tif(l_s_max<l_s):\n",
    "\t\tsub_max=sub\n",
    "\treturn sub_max"
   ]
  },
  {
   "cell_type": "code",
   "execution_count": 4,
   "id": "f2dca7f0",
   "metadata": {},
   "outputs": [
    {
     "name": "stdout",
     "output_type": "stream",
     "text": [
      "Passed\n",
      "Passed\n",
      "Passed\n",
      "Passed\n",
      "Passed\n",
      "Passed\n",
      "Passed\n",
      "Passed\n",
      "Passed\n",
      "Passed\n",
      "Passed\n",
      "Passed\n",
      "Passed\n",
      "Passed\n",
      "Passed\n",
      "Passed\n",
      "Passed\n",
      "Passed\n",
      "Passed\n",
      "Passed\n",
      "Passed\n"
     ]
    }
   ],
   "source": [
    "Test.assert_equals(longest_substring(\"844929328912985315632725682153\"), \"56327256\")\n",
    "Test.assert_equals(longest_substring(\"769697538272129475593767931733\"), \"27212947\")\n",
    "Test.assert_equals(longest_substring(\"937948289456111258444958189244\"), \"894561\")\n",
    "Test.assert_equals(longest_substring(\"736237766362158694825822899262\"), \"636\")\n",
    "Test.assert_equals(longest_substring(\"369715978955362655737322836233\"), \"369\")\n",
    "Test.assert_equals(longest_substring(\"345724969853525333273796592356\"), \"496985\")\n",
    "Test.assert_equals(longest_substring(\"548915548581127334254139969136\"), \"8581\")\n",
    "Test.assert_equals(longest_substring(\"417922164857852157775176959188\"), \"78521\")\n",
    "Test.assert_equals(longest_substring(\"251346385699223913113161144327\"), \"638569\")\n",
    "Test.assert_equals(longest_substring(\"483563951878576456268539849244\"), \"18785\")\n",
    "Test.assert_equals(longest_substring(\"853667717122615664748443484823\"), \"474\")\n",
    "Test.assert_equals(longest_substring(\"398785511683322662883368457392\"), \"98785\")\n",
    "Test.assert_equals(longest_substring(\"368293545763611759335443678239\"), \"76361\")\n",
    "Test.assert_equals(longest_substring(\"775195358448494712934755311372\"), \"4947\")\n",
    "Test.assert_equals(longest_substring(\"646113733929969155976523363762\"), \"76523\")\n",
    "Test.assert_equals(longest_substring(\"575337321726324966478369152265\"), \"478369\")\n",
    "Test.assert_equals(longest_substring(\"754388489999793138912431545258\"), \"545258\")\n",
    "Test.assert_equals(longest_substring(\"198644286258141856918653955964\"), \"2581418569\")\n",
    "Test.assert_equals(longest_substring(\"643349187319779695864213682274\"), \"349\")\n",
    "Test.assert_equals(longest_substring(\"919331281193713636178478295857\"), \"36361\")\n",
    "Test.assert_equals(longest_substring(\"2846286484444288886666448822244466688822247\"), \"47\")"
   ]
  },
  {
   "cell_type": "markdown",
   "id": "64dcb228",
   "metadata": {},
   "source": [
    "problem https://edabit.com/challenge/j9zed4GnykS48W6vh (5 point)"
   ]
  },
  {
   "cell_type": "code",
   "execution_count": 5,
   "id": "72a915d3",
   "metadata": {},
   "outputs": [],
   "source": [
    "def digits(number):\n",
    "\tc=0\n",
    "\tif number<=1 :\n",
    "\t\treturn c\n",
    "\ti=1\n",
    "\twhile number>=10**(i):\n",
    "\t\tc+=9*10**(i-1)*i\n",
    "\t\ti+=1\n",
    "\tc+=(number-10**(i-1))*(i)\n",
    "\treturn c"
   ]
  },
  {
   "cell_type": "code",
   "execution_count": 6,
   "id": "aa72ffa8",
   "metadata": {},
   "outputs": [
    {
     "name": "stdout",
     "output_type": "stream",
     "text": [
      "Passed\n",
      "Passed\n",
      "Passed\n",
      "Passed\n",
      "Passed\n",
      "Passed\n",
      "Passed\n",
      "Passed\n"
     ]
    }
   ],
   "source": [
    "Test.assert_equals(digits(1), 0)\n",
    "Test.assert_equals(digits(10), 9)\n",
    "Test.assert_equals(digits(100), 189)\n",
    "Test.assert_equals(digits(2020), 6969)\n",
    "Test.assert_equals(digits(103496754), 820359675)\n",
    "Test.assert_equals(digits(3248979384), 31378682729)\n",
    "Test.assert_equals(digits(122398758003456), 1724870258940729)\n",
    "Test.assert_equals(digits(58473029386609125789), 1158349476621071404669)"
   ]
  },
  {
   "cell_type": "markdown",
   "id": "e1f38d8c",
   "metadata": {},
   "source": [
    "problem https://edabit.com/challenge/vcFgGJHxhTwRiLK5d (5 point)"
   ]
  },
  {
   "cell_type": "code",
   "execution_count": 7,
   "id": "f9ba1afe",
   "metadata": {},
   "outputs": [],
   "source": [
    "def smallest(n):\n",
    "\tnum=1\n",
    "\tk=2\n",
    "\twhile (k<=n):\n",
    "\t\tc=1\n",
    "\t\twhile num%k!=0:\n",
    "\t\t\tif (num*c)%k!=0:\n",
    "\t\t\t\tc+=1\n",
    "\t\t\telse:\n",
    "\t\t\t\tnum*=c\n",
    "\t\tk+=1\n",
    "\treturn num"
   ]
  },
  {
   "cell_type": "code",
   "execution_count": 8,
   "id": "21ba557e",
   "metadata": {},
   "outputs": [
    {
     "name": "stdout",
     "output_type": "stream",
     "text": [
      "Passed\n",
      "Passed\n",
      "Passed\n",
      "Passed\n",
      "Passed\n",
      "Passed\n",
      "Passed\n"
     ]
    }
   ],
   "source": [
    "Test.assert_equals(smallest(1), 1)\n",
    "Test.assert_equals(smallest(10), 2520)\n",
    "Test.assert_equals(smallest(17), 12252240)\n",
    "Test.assert_equals(smallest(31), 72201776446800)\n",
    "Test.assert_equals(smallest(99), 69720375229712477164533808935312303556800)\n",
    "Test.assert_equals(smallest(100), 69720375229712477164533808935312303556800)\n",
    "Test.assert_equals(smallest(101), 7041757898200960193617914702466542659236800)"
   ]
  },
  {
   "cell_type": "code",
   "execution_count": null,
   "id": "4eecfae6",
   "metadata": {},
   "outputs": [],
   "source": []
  }
 ],
 "metadata": {
  "kernelspec": {
   "display_name": "Python 3 (ipykernel)",
   "language": "python",
   "name": "python3"
  },
  "language_info": {
   "codemirror_mode": {
    "name": "ipython",
    "version": 3
   },
   "file_extension": ".py",
   "mimetype": "text/x-python",
   "name": "python",
   "nbconvert_exporter": "python",
   "pygments_lexer": "ipython3",
   "version": "3.11.4"
  }
 },
 "nbformat": 4,
 "nbformat_minor": 5
}
